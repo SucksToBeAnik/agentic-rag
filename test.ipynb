{
 "cells": [
  {
   "cell_type": "code",
   "execution_count": 4,
   "id": "7fff0659",
   "metadata": {},
   "outputs": [],
   "source": [
    "from langchain_core.tools import tool\n",
    "from datetime import datetime\n",
    "from langgraph.prebuilt import ToolNode\n",
    "\n",
    "\n",
    "@tool\n",
    "def get_weather(location: str):\n",
    "    \"\"\"Call to get the current weather.\"\"\"\n",
    "    if location.lower() in [\"sf\", \"san francisco\"]:\n",
    "        return \"It's 60 degrees and foggy.\"\n",
    "    else:\n",
    "        return \"It's 90 degrees and sunny.\"\n",
    "\n",
    "\n",
    "@tool\n",
    "def get_today_date():\n",
    "    \"\"\"Call to get the current date.\"\"\"\n",
    "\n",
    "    return datetime.now().strftime(\"%B %d, %Y\")\n",
    "\n",
    "tools = [get_weather, get_today_date]\n",
    "tool_node = ToolNode(tools=tools)\n"
   ]
  },
  {
   "cell_type": "code",
   "execution_count": 30,
   "id": "8971a297",
   "metadata": {},
   "outputs": [
    {
     "data": {
      "text/plain": [
       "<langgraph.graph.state.StateGraph at 0x16792266660>"
      ]
     },
     "execution_count": 30,
     "metadata": {},
     "output_type": "execute_result"
    }
   ],
   "source": [
    "from langchain_groq.chat_models import ChatGroq\n",
    "from typing import Annotated, TypedDict, Annotated\n",
    "from langchain_core.messages import BaseMessage\n",
    "from langgraph.graph.message import add_messages\n",
    "from langgraph.graph import END, StateGraph, START\n",
    "from langgraph.prebuilt import tools_condition\n",
    "from langchain_core.messages import ToolMessage\n",
    "\n",
    "\n",
    "llm = ChatGroq(model=\"deepseek-r1-distill-llama-70b\",temperature=0,streaming=True)\n",
    "\n",
    "class AgentState(TypedDict):\n",
    "    \"\"\"State of the agent.\"\"\"\n",
    "    messages: Annotated[list[BaseMessage], add_messages]\n",
    "\n",
    "def agent(state: AgentState):\n",
    "    \"\"\"\n",
    "    Invokes the agent model to generate a response based on the current state. Given\n",
    "    the question, it will decide to use the 'get_weather'or 'get_today_date' tool, or simply end.\n",
    "\n",
    "    Args:\n",
    "        state (messages): The current state\n",
    "\n",
    "    Returns:\n",
    "        dict: The updated state with the agent response appended to messages\n",
    "    \"\"\"\n",
    "    llm_with_tool = llm.bind_tools(tools=tools)\n",
    "    response = llm_with_tool.invoke(state[\"messages\"])\n",
    "\n",
    "    return {\n",
    "        \"messages\": [response]\n",
    "    }\n",
    "\n",
    "\n",
    "def should_continue(state: AgentState) -> str:\n",
    "    last_msg = state[\"messages\"][-1]\n",
    "\n",
    "    if isinstance(last_msg, ToolMessage):\n",
    "        return \"__end__\"\n",
    "    return \"agent\"\n",
    "\n",
    "workflow = StateGraph(AgentState)\n",
    "\n",
    "workflow.add_node(\"agent\", agent)\n",
    "workflow.add_edge(START, \"agent\")\n",
    "\n",
    "workflow.add_node(\"tools\", tool_node)\n",
    "workflow.add_conditional_edges(\"agent\",tools_condition,{\n",
    "    \"tools\": \"tools\",\n",
    "    \"end\": END\n",
    "})\n",
    "\n",
    "workflow.add_conditional_edges(\"tools\",should_continue)\n",
    "    "
   ]
  },
  {
   "cell_type": "code",
   "execution_count": 31,
   "id": "6c4f41e4",
   "metadata": {},
   "outputs": [
    {
     "data": {
      "image/png": "[encoded data removed]",
      "text/plain": [
       "<IPython.core.display.Image object>"
      ]
     },
     "metadata": {},
     "output_type": "display_data"
    }
   ],
   "source": [
    "from IPython.display import Image, display\n",
    "graph = workflow.compile()\n",
    "\n",
    "try:\n",
    "    display(Image(graph.get_graph(xray=True).draw_mermaid_png()))\n",
    "except Exception:\n",
    "    # This requires some extra dependencies and is optional\n",
    "    pass"
   ]
  },
  {
   "cell_type": "code",
   "execution_count": 37,
   "id": "62b5d954",
   "metadata": {},
   "outputs": [
    {
     "name": "stdout",
     "output_type": "stream",
     "text": [
      "{'agent': {'messages': [AIMessage(content='', additional_kwargs={'tool_calls': [{'index': 0, 'id': 'call_cenv', 'function': {'arguments': '{\"location\": \"Dhaka\"}', 'name': 'get_weather'}, 'type': 'function'}]}, response_metadata={'finish_reason': 'tool_calls', 'model_name': 'deepseek-r1-distill-llama-70b', 'system_fingerprint': 'fp_454c494f52'}, id='run-224f6570-7d56-4b7a-90d7-897cf0c4d1e2-0', tool_calls=[{'name': 'get_weather', 'args': {'location': 'Dhaka'}, 'id': 'call_cenv', 'type': 'tool_call'}], usage_metadata={'input_tokens': 154, 'output_tokens': 254, 'total_tokens': 408})]}}\n",
      "{'tools': {'messages': [ToolMessage(content=\"It's 90 degrees and sunny.\", name='get_weather', id='1c997f4e-b416-4816-822e-c6d17b26a1ab', tool_call_id='call_cenv')]}}\n"
     ]
    }
   ],
   "source": [
    "# response = graph.invoke({\n",
    "#     \"messages\": [{\n",
    "#         \"role\": \"user\",\n",
    "#         \"content\": \"What is today's date?\"\n",
    "#     }]\n",
    "# }, debug=True)\n",
    "\n",
    "# print(response)\n",
    "\n",
    "for s in graph.stream({\n",
    "    \"messages\": [{\n",
    "        \"role\": \"user\",\n",
    "        \"content\": \"Ajker weather kemon?\"\n",
    "    }]\n",
    "}):\n",
    "    print(s)"
   ]
  }
 ],
 "metadata": {
  "kernelspec": {
   "display_name": "venv",
   "language": "python",
   "name": "python3"
  },
  "language_info": {
   "codemirror_mode": {
    "name": "ipython",
    "version": 3
   },
   "file_extension": ".py",
   "mimetype": "text/x-python",
   "name": "python",
   "nbconvert_exporter": "python",
   "pygments_lexer": "ipython3",
   "version": "3.12.5"
  }
 },
 "nbformat": 4,
 "nbformat_minor": 5
}
